{
 "cells": [
  {
   "cell_type": "code",
   "execution_count": 148,
   "metadata": {},
   "outputs": [
    {
     "data": {
      "text/plain": "           altura        peso         IMC   objetivos\ncount  999.000000  999.000000  999.000000  999.000000\nmean   166.456456   91.738739   36.999389    2.059059\nstd     30.999093   33.170097   20.486089    1.179108\nmin    115.000000   35.000000    7.360000    0.000000\n25%    139.000000   63.000000   21.955000    1.000000\n50%    166.000000   91.000000   32.310000    3.000000\n75%    193.000000  120.000000   46.820000    3.000000\nmax    219.000000  149.000000  110.730000    3.000000",
      "text/html": "<div>\n<style scoped>\n    .dataframe tbody tr th:only-of-type {\n        vertical-align: middle;\n    }\n\n    .dataframe tbody tr th {\n        vertical-align: top;\n    }\n\n    .dataframe thead th {\n        text-align: right;\n    }\n</style>\n<table border=\"1\" class=\"dataframe\">\n  <thead>\n    <tr style=\"text-align: right;\">\n      <th></th>\n      <th>altura</th>\n      <th>peso</th>\n      <th>IMC</th>\n      <th>objetivos</th>\n    </tr>\n  </thead>\n  <tbody>\n    <tr>\n      <th>count</th>\n      <td>999.000000</td>\n      <td>999.000000</td>\n      <td>999.000000</td>\n      <td>999.000000</td>\n    </tr>\n    <tr>\n      <th>mean</th>\n      <td>166.456456</td>\n      <td>91.738739</td>\n      <td>36.999389</td>\n      <td>2.059059</td>\n    </tr>\n    <tr>\n      <th>std</th>\n      <td>30.999093</td>\n      <td>33.170097</td>\n      <td>20.486089</td>\n      <td>1.179108</td>\n    </tr>\n    <tr>\n      <th>min</th>\n      <td>115.000000</td>\n      <td>35.000000</td>\n      <td>7.360000</td>\n      <td>0.000000</td>\n    </tr>\n    <tr>\n      <th>25%</th>\n      <td>139.000000</td>\n      <td>63.000000</td>\n      <td>21.955000</td>\n      <td>1.000000</td>\n    </tr>\n    <tr>\n      <th>50%</th>\n      <td>166.000000</td>\n      <td>91.000000</td>\n      <td>32.310000</td>\n      <td>3.000000</td>\n    </tr>\n    <tr>\n      <th>75%</th>\n      <td>193.000000</td>\n      <td>120.000000</td>\n      <td>46.820000</td>\n      <td>3.000000</td>\n    </tr>\n    <tr>\n      <th>max</th>\n      <td>219.000000</td>\n      <td>149.000000</td>\n      <td>110.730000</td>\n      <td>3.000000</td>\n    </tr>\n  </tbody>\n</table>\n</div>"
     },
     "execution_count": 148,
     "metadata": {},
     "output_type": "execute_result"
    }
   ],
   "source": [
    "import pandas as pd\n",
    "\n",
    "data = pd.read_csv(\"../resources/data/dataset.csv\", delimiter=';')\n",
    "data.describe()"
   ]
  },
  {
   "cell_type": "code",
   "execution_count": 149,
   "metadata": {
    "pycharm": {
     "name": "#%%\n"
    }
   },
   "outputs": [
    {
     "name": "stdout",
     "output_type": "stream",
     "text": [
      "Mean Accuracy: 0.982 (0.012)\n"
     ]
    }
   ],
   "source": [
    "from numpy import mean, std\n",
    "from sklearn.model_selection import cross_val_score\n",
    "from sklearn.model_selection import KFold\n",
    "from sklearn.linear_model import LogisticRegression\n",
    "\n",
    "X, y = data.iloc[:, :-1], data.iloc[:, -1]\n",
    "\n",
    "model = LogisticRegression(multi_class='multinomial', solver='lbfgs', max_iter=1000)\n",
    "n_scores = cross_val_score(model, X, y, scoring='accuracy', cv=KFold(n_splits=20), n_jobs=-1)\n",
    "\n",
    "print('Mean Accuracy: %.3f (%.3f)' % (mean(n_scores), std(n_scores)))"
   ]
  },
  {
   "cell_type": "code",
   "execution_count": null,
   "metadata": {
    "pycharm": {
     "name": "#%%\n"
    }
   },
   "outputs": [],
   "source": [
    "model.fit(X, y)\n",
    "\n",
    "row_1 = [170, 70, 24.2]\n",
    "row_0 = [185, 57, 16.7]\n",
    "\n",
    "p1 = model.predict([row_1])\n",
    "p0 = model.predict([row_0])\n",
    "\n",
    "print('Excepted class 1 -> Predicted Class: %d' % p1[0])\n",
    "print('Excepted class 0 -> Predicted Class: %d' % p0[0])"
   ]
  },
  {
   "cell_type": "code",
   "execution_count": null,
   "metadata": {
    "pycharm": {
     "name": "#%%\n"
    }
   },
   "outputs": [],
   "source": [
    "from matplotlib import pyplot\n",
    "\n",
    "def get_models():\n",
    "    models = dict()\n",
    "    for p in [0.0, 0.0001, 0.001, 0.01, 0.1, 1.0]:\n",
    "        key = '%.4f' % p\n",
    "        if p == 0.0:\n",
    "            models[key] = LogisticRegression(multi_class='multinomial', solver='lbfgs', penalty='none', max_iter=1000)\n",
    "        else:\n",
    "            models[key] = LogisticRegression(multi_class='multinomial', solver='lbfgs', penalty='l2', C=p, max_iter=1000)\n",
    "    return models\n",
    "\n",
    "def evaluate_model(model, X, y):\n",
    "    scores = dict()\n",
    "    for ns in [10, 15, 20, 25]:\n",
    "        scores[ns] = cross_val_score(model, X, y, scoring='accuracy', cv=KFold(n_splits=ns), n_jobs=-1)\n",
    "\n",
    "    return scores\n",
    "\n",
    "models = get_models()\n",
    "results, names = list(), list()\n",
    "\n",
    "for name, model in models.items():\n",
    "    scores = evaluate_model(model, X, y)\n",
    "    for score_name, score in scores.items():\n",
    "        results.append(score)\n",
    "        key = f'{name} -> {score_name}'\n",
    "        names.append(key)\n",
    "\n",
    "        print('-> %s %.3f (%.3f)' % (key, mean(score), std(score)))\n",
    "\n",
    "\n",
    "pyplot.boxplot(results, labels=names, showmeans=True)\n",
    "pyplot.show()"
   ]
  },
  {
   "cell_type": "code",
   "execution_count": null,
   "metadata": {
    "pycharm": {
     "name": "#%%\n"
    }
   },
   "outputs": [],
   "source": [
    "model = LogisticRegression(multi_class='multinomial', solver='lbfgs', max_iter=1000)\n",
    "n_scores = cross_val_score(model, X, y, scoring='accuracy', cv=KFold(n_splits=10), n_jobs=-1)\n",
    "\n",
    "print('Mean Accuracy: %.3f (%.3f)' % (mean(n_scores), std(n_scores)))"
   ]
  },
  {
   "cell_type": "code",
   "execution_count": null,
   "metadata": {
    "pycharm": {
     "name": "#%%\n"
    }
   },
   "outputs": [],
   "source": [
    "from sklearn.model_selection import cross_val_predict\n",
    "import sklearn.metrics as metrics\n",
    "\n",
    "model = LogisticRegression(multi_class='multinomial', solver='lbfgs', max_iter=1000)\n",
    "\n",
    "y_pred = dict()\n",
    "for ns in [10, 15, 20, 25]:\n",
    "    y_pred[f'cv->{ns}'] = cross_val_predict(model, X, y, cv=KFold(n_splits=ns), n_jobs=-1)"
   ]
  },
  {
   "cell_type": "code",
   "execution_count": null,
   "metadata": {
    "pycharm": {
     "name": "#%%\n"
    }
   },
   "outputs": [],
   "source": [
    "for name, y_pred in y_pred.items():\n",
    "    print(f'----------------{name}----------------\\n')\n",
    "    print(\"Exactitud: %.3f\\n\" % (metrics.accuracy_score(y, y_pred)))\n",
    "    print(\"Precisión: %.3f\\n\" % (metrics.precision_score(y, y_pred, average=\"micro\")))\n",
    "    print(\"Sensibilidad: %.3f\\n\" % (metrics.recall_score(y, y_pred, average=\"micro\")))\n",
    "    print(\"F1: %.3f\\n\" % (metrics.f1_score(y, y_pred, average=\"micro\")))\n",
    "    print(\"Matriz de confusión:\\n\", metrics.confusion_matrix(y, y_pred))\n",
    "    print(\"Tabla de métricas:\\n\", metrics.classification_report(y, y_pred))\n",
    "    print(f'---------------------------------------\\n')"
   ]
  },
  {
   "cell_type": "code",
   "execution_count": null,
   "metadata": {
    "pycharm": {
     "name": "#%%\n"
    }
   },
   "outputs": [],
   "source": [
    "import pickle\n",
    "\n",
    "# Version final del modelo\n",
    "model = LogisticRegression(multi_class='multinomial', solver='lbfgs', max_iter=1000)\n",
    "model.fit(X, y)\n",
    "\n",
    "pkl_filename = \"../models/pickle_model.pkl\"\n",
    "with open(pkl_filename, 'wb') as file:\n",
    "    pickle.dump(model, file)"
   ]
  },
  {
   "cell_type": "code",
   "execution_count": null,
   "metadata": {
    "pycharm": {
     "name": "#%%\n"
    }
   },
   "outputs": [],
   "source": [
    "# Selección de atributos.\n",
    "import numpy as np\n",
    "from sklearn.feature_selection import f_regression, mutual_info_regression\n",
    "\n",
    "# Dependencia lineal.\n",
    "f_test, _ = f_regression(X, y)\n",
    "f_test /= np.max(f_test)\n",
    "\n",
    "# Evaluación de atributos.\n",
    "columns = ['Altura', 'Peso', 'IMC']\n",
    "for i in range(3):\n",
    "    print(f'{columns[i]}: El valor de su F-Test es {round(f_test[i], 2)}')"
   ]
  },
  {
   "cell_type": "code",
   "execution_count": 152,
   "metadata": {
    "pycharm": {
     "name": "#%%\n"
    }
   },
   "outputs": [
    {
     "name": "stdout",
     "output_type": "stream",
     "text": [
      "     altura  peso\n",
      "0       187   104\n",
      "1       147    35\n",
      "2       176   141\n",
      "3       139   125\n",
      "4       178    47\n",
      "..      ...   ...\n",
      "994     163   113\n",
      "995     116    67\n",
      "996     117   133\n",
      "997     180   140\n",
      "998     217    39\n",
      "\n",
      "[999 rows x 2 columns]\n"
     ]
    }
   ],
   "source": [
    "X = X.iloc[:, :2]\n",
    "print(X)"
   ]
  },
  {
   "cell_type": "code",
   "execution_count": null,
   "metadata": {
    "pycharm": {
     "name": "#%%\n"
    }
   },
   "outputs": [],
   "source": [
    "from sklearn import preprocessing\n",
    "\n",
    "standardizer = preprocessing.StandardScaler()\n",
    "standardized_data = standardizer.fit_transform(X)\n",
    "\n",
    "# Output\n",
    "print(standardized_data)"
   ]
  },
  {
   "cell_type": "code",
   "execution_count": null,
   "metadata": {
    "pycharm": {
     "name": "#%%\n"
    }
   },
   "outputs": [],
   "source": [
    "from scipy import stats\n",
    "import matplotlib.pyplot as plt\n",
    "from sklearn.covariance import EllipticEnvelope\n",
    "from limpieza_funciones import grafico_outliers\n",
    "\n",
    "standardized_data = pd.DataFrame(data=standardized_data)\n",
    "\n",
    "# Limpieza de datos: detección de outliers.\n",
    "outlier_method = EllipticEnvelope().fit(standardized_data)\n",
    "scores_pred = outlier_method.decision_function(standardized_data)\n",
    "threshold = stats.scoreatpercentile(scores_pred, 25)\n",
    "\n",
    "print(\"%.3f %%\" % (100*len(scores_pred[scores_pred < threshold])/len(scores_pred)))\n",
    "\n",
    "# Dibujar gráfica de outliers.\n",
    "grafico_outliers(standardized_data, outlier_method, 150, threshold, -7, 7)"
   ]
  },
  {
   "cell_type": "code",
   "execution_count": null,
   "metadata": {},
   "outputs": [],
   "source": [
    "from sklearn.covariance import EllipticEnvelope\n",
    "\n",
    "# Limpieza de datos: detección de outliers.\n",
    "outlier_method = EllipticEnvelope().fit(standardized_data)\n",
    "predicted_outliers = outlier_method.predict(standardized_data)\n",
    "\n",
    "standardized_data = standardized_data[predicted_outliers > 0]\n",
    "len(standardized_data)\n",
    "\n",
    "#Output\n",
    "899"
   ]
  },
  {
   "cell_type": "code",
   "execution_count": null,
   "metadata": {},
   "outputs": [],
   "source": [
    "y = y[predicted_outliers > 0]\n",
    "print(y)"
   ]
  },
  {
   "cell_type": "code",
   "execution_count": null,
   "metadata": {},
   "outputs": [],
   "source": [
    "from sklearn.pipeline import Pipeline\n",
    "from sklearn import linear_model, metrics\n",
    "from sklearn.neighbors import KNeighborsRegressor\n",
    "from sklearn.model_selection import cross_val_predict\n",
    "from sklearn.model_selection import KFold\n",
    "import numpy as np\n",
    "\n",
    "k = 10\n",
    "algoritmos = {'OLS': linear_model.LinearRegression(),\n",
    "              'KNN': KNeighborsRegressor(n_neighbors = k),\n",
    "              'LOGR': LogisticRegression(multi_class='multinomial', solver='lbfgs', max_iter=1000)\n",
    "             }\n",
    "\n",
    "metricas = {\n",
    "  'MAE':  metrics.mean_absolute_error,\n",
    "  'RMSE': lambda y, y_pred:\n",
    "          sqrt(metrics.mean_squared_error(y, y_pred)),\n",
    "  'R2':   metrics.r2_score\n",
    "}\n",
    "\n",
    "y_pred = {}\n",
    "for nombre, alg in algoritmos.items():\n",
    "    y_pred[nombre] = cross_val_predict(alg, standardized_data, y,\n",
    "                                       cv=KFold(n_splits = k))"
   ]
  },
  {
   "cell_type": "code",
   "execution_count": null,
   "metadata": {},
   "outputs": [],
   "source": [
    "from evaluacion_funciones import *\n",
    "from math import sqrt\n",
    "\n",
    "# Evaluación y presentación de resultados.\n",
    "for nombre, alg in algoritmos.items():\n",
    "    result = evaluacion(y, y_pred[nombre], metricas)\n",
    "    grafica_real_vs_pred(y, y_pred[nombre], result, nombre)"
   ]
  },
  {
   "cell_type": "code",
   "execution_count": 153,
   "outputs": [],
   "source": [
    "from sklearn.neighbors import KNeighborsRegressor\n",
    "import pickle\n",
    "\n",
    "# Version final del modelo\n",
    "model = KNeighborsRegressor(n_neighbors = 10)\n",
    "model.fit(X, y)\n",
    "\n",
    "pkl_filename = \"../models/pickle_model.pkl\"\n",
    "with open(pkl_filename, 'wb') as file:\n",
    "    pickle.dump(model, file)\n"
   ],
   "metadata": {
    "collapsed": false,
    "pycharm": {
     "name": "#%%\n"
    }
   }
  },
  {
   "cell_type": "code",
   "execution_count": 93,
   "outputs": [
    {
     "data": {
      "text/plain": "                                               Comida        Dia      Hora\n0   Te verde. Yogurt natural sin azucar con copos ...      Lunes  Desayuno\n1                                      Infusion. Uvas      Lunes  Almuerzo\n2   Pure de calabacin y calabaza. Pollo al horno c...      Lunes    Comida\n3                            Infusion. Dos mandarinas      Lunes  Merienda\n4   Ensalada de tomate con tortilla de champiñones...      Lunes      Cena\n5   Cafe con leche desnatada. Tostada de pan integ...     Martes  Desayuno\n6                                 Infusion. Dos kiwis     Martes  Almuerzo\n7   Ensalada de judias verdes con espirales integr...     Martes    Comida\n8                                     Infusion. Caqui     Martes  Merienda\n9   Parrilladad e tomate, cabolla y pimiento rojo....     Martes      Cena\n10        Leche desnatada con copos de avena y canela  Miercoles  Desayuno\n11                           Infusion. Dos mandarinas  Miercoles  Almuerzo\n12  Ensalada de tomate con espinacas y quinoa. Mer...  Miercoles    Comida\n13                                     Infusion. Uvas  Miercoles  Merienda\n14  Pechuga de pollo a la planca con rodajas de to...  Miercoles      Cena\n15              Yogurt natural con quinoa. Frambuesas     Jueves  Desayuno\n16                                    Infusion. Caqui     Jueves  Almuerzo\n17  Espinacas salteadas con cebolla y lentejas. Do...     Jueves    Comida\n18                                 Infusion. Una pera     Jueves  Merienda\n19  Sopa de verduras con fideos. Tortilla de alcac...     Jueves      Cena\n20      Te negro. Tostada de pan con ricotta. Un kiwi    Viernes  Desayuno\n21                              Infusion. Una manzana    Viernes  Almuerzo\n22  Brocoli con patata. Salmon al horno con limon....    Viernes    Comida\n23                              Infusion. Una naranja    Viernes  Merienda\n24  Ensalada de rucula, cebolla y zanahoria. Pavo ...    Viernes      Cena\n25  Cafe con leche desnatada. Tostada de pan integ...     Sabado  Desayuno\n26                                Infusion. Dos kiwis     Sabado  Almuerzo\n27  Pure de espinacas y zanahoria. Solomillo de te...     Sabado    Comida\n28                                     Infusion. Uvas     Sabado  Merienda\n29  Palitos de zanahoria y pepino con hummus. Sepi...     Sabado      Cena\n30        Leche desnatada con copos de avena y canela    Domingo  Desayuno\n31                              Infusion. Una naranja    Domingo  Almuerzo\n32  Espinacas salteadas con cebolla y lentejas. Un...    Domingo    Comida\n33                                Infusion. Dos kiwis    Domingo  Merienda\n34   Bacalado guisado con patata y verduras. Una pera    Domingo      Cena",
      "text/html": "<div>\n<style scoped>\n    .dataframe tbody tr th:only-of-type {\n        vertical-align: middle;\n    }\n\n    .dataframe tbody tr th {\n        vertical-align: top;\n    }\n\n    .dataframe thead th {\n        text-align: right;\n    }\n</style>\n<table border=\"1\" class=\"dataframe\">\n  <thead>\n    <tr style=\"text-align: right;\">\n      <th></th>\n      <th>Comida</th>\n      <th>Dia</th>\n      <th>Hora</th>\n    </tr>\n  </thead>\n  <tbody>\n    <tr>\n      <th>0</th>\n      <td>Te verde. Yogurt natural sin azucar con copos ...</td>\n      <td>Lunes</td>\n      <td>Desayuno</td>\n    </tr>\n    <tr>\n      <th>1</th>\n      <td>Infusion. Uvas</td>\n      <td>Lunes</td>\n      <td>Almuerzo</td>\n    </tr>\n    <tr>\n      <th>2</th>\n      <td>Pure de calabacin y calabaza. Pollo al horno c...</td>\n      <td>Lunes</td>\n      <td>Comida</td>\n    </tr>\n    <tr>\n      <th>3</th>\n      <td>Infusion. Dos mandarinas</td>\n      <td>Lunes</td>\n      <td>Merienda</td>\n    </tr>\n    <tr>\n      <th>4</th>\n      <td>Ensalada de tomate con tortilla de champiñones...</td>\n      <td>Lunes</td>\n      <td>Cena</td>\n    </tr>\n    <tr>\n      <th>5</th>\n      <td>Cafe con leche desnatada. Tostada de pan integ...</td>\n      <td>Martes</td>\n      <td>Desayuno</td>\n    </tr>\n    <tr>\n      <th>6</th>\n      <td>Infusion. Dos kiwis</td>\n      <td>Martes</td>\n      <td>Almuerzo</td>\n    </tr>\n    <tr>\n      <th>7</th>\n      <td>Ensalada de judias verdes con espirales integr...</td>\n      <td>Martes</td>\n      <td>Comida</td>\n    </tr>\n    <tr>\n      <th>8</th>\n      <td>Infusion. Caqui</td>\n      <td>Martes</td>\n      <td>Merienda</td>\n    </tr>\n    <tr>\n      <th>9</th>\n      <td>Parrilladad e tomate, cabolla y pimiento rojo....</td>\n      <td>Martes</td>\n      <td>Cena</td>\n    </tr>\n    <tr>\n      <th>10</th>\n      <td>Leche desnatada con copos de avena y canela</td>\n      <td>Miercoles</td>\n      <td>Desayuno</td>\n    </tr>\n    <tr>\n      <th>11</th>\n      <td>Infusion. Dos mandarinas</td>\n      <td>Miercoles</td>\n      <td>Almuerzo</td>\n    </tr>\n    <tr>\n      <th>12</th>\n      <td>Ensalada de tomate con espinacas y quinoa. Mer...</td>\n      <td>Miercoles</td>\n      <td>Comida</td>\n    </tr>\n    <tr>\n      <th>13</th>\n      <td>Infusion. Uvas</td>\n      <td>Miercoles</td>\n      <td>Merienda</td>\n    </tr>\n    <tr>\n      <th>14</th>\n      <td>Pechuga de pollo a la planca con rodajas de to...</td>\n      <td>Miercoles</td>\n      <td>Cena</td>\n    </tr>\n    <tr>\n      <th>15</th>\n      <td>Yogurt natural con quinoa. Frambuesas</td>\n      <td>Jueves</td>\n      <td>Desayuno</td>\n    </tr>\n    <tr>\n      <th>16</th>\n      <td>Infusion. Caqui</td>\n      <td>Jueves</td>\n      <td>Almuerzo</td>\n    </tr>\n    <tr>\n      <th>17</th>\n      <td>Espinacas salteadas con cebolla y lentejas. Do...</td>\n      <td>Jueves</td>\n      <td>Comida</td>\n    </tr>\n    <tr>\n      <th>18</th>\n      <td>Infusion. Una pera</td>\n      <td>Jueves</td>\n      <td>Merienda</td>\n    </tr>\n    <tr>\n      <th>19</th>\n      <td>Sopa de verduras con fideos. Tortilla de alcac...</td>\n      <td>Jueves</td>\n      <td>Cena</td>\n    </tr>\n    <tr>\n      <th>20</th>\n      <td>Te negro. Tostada de pan con ricotta. Un kiwi</td>\n      <td>Viernes</td>\n      <td>Desayuno</td>\n    </tr>\n    <tr>\n      <th>21</th>\n      <td>Infusion. Una manzana</td>\n      <td>Viernes</td>\n      <td>Almuerzo</td>\n    </tr>\n    <tr>\n      <th>22</th>\n      <td>Brocoli con patata. Salmon al horno con limon....</td>\n      <td>Viernes</td>\n      <td>Comida</td>\n    </tr>\n    <tr>\n      <th>23</th>\n      <td>Infusion. Una naranja</td>\n      <td>Viernes</td>\n      <td>Merienda</td>\n    </tr>\n    <tr>\n      <th>24</th>\n      <td>Ensalada de rucula, cebolla y zanahoria. Pavo ...</td>\n      <td>Viernes</td>\n      <td>Cena</td>\n    </tr>\n    <tr>\n      <th>25</th>\n      <td>Cafe con leche desnatada. Tostada de pan integ...</td>\n      <td>Sabado</td>\n      <td>Desayuno</td>\n    </tr>\n    <tr>\n      <th>26</th>\n      <td>Infusion. Dos kiwis</td>\n      <td>Sabado</td>\n      <td>Almuerzo</td>\n    </tr>\n    <tr>\n      <th>27</th>\n      <td>Pure de espinacas y zanahoria. Solomillo de te...</td>\n      <td>Sabado</td>\n      <td>Comida</td>\n    </tr>\n    <tr>\n      <th>28</th>\n      <td>Infusion. Uvas</td>\n      <td>Sabado</td>\n      <td>Merienda</td>\n    </tr>\n    <tr>\n      <th>29</th>\n      <td>Palitos de zanahoria y pepino con hummus. Sepi...</td>\n      <td>Sabado</td>\n      <td>Cena</td>\n    </tr>\n    <tr>\n      <th>30</th>\n      <td>Leche desnatada con copos de avena y canela</td>\n      <td>Domingo</td>\n      <td>Desayuno</td>\n    </tr>\n    <tr>\n      <th>31</th>\n      <td>Infusion. Una naranja</td>\n      <td>Domingo</td>\n      <td>Almuerzo</td>\n    </tr>\n    <tr>\n      <th>32</th>\n      <td>Espinacas salteadas con cebolla y lentejas. Un...</td>\n      <td>Domingo</td>\n      <td>Comida</td>\n    </tr>\n    <tr>\n      <th>33</th>\n      <td>Infusion. Dos kiwis</td>\n      <td>Domingo</td>\n      <td>Merienda</td>\n    </tr>\n    <tr>\n      <th>34</th>\n      <td>Bacalado guisado con patata y verduras. Una pera</td>\n      <td>Domingo</td>\n      <td>Cena</td>\n    </tr>\n  </tbody>\n</table>\n</div>"
     },
     "metadata": {},
     "output_type": "display_data"
    }
   ],
   "source": [
    "food = pd.read_csv('../resources/data/diets.csv', delimiter=';')\n",
    "diet = food[food['Target'] == 'hipo'].iloc[:,:-1]\n",
    "\n",
    "diet = diet.rename(columns={'Day': 'Dia', 'Time': 'Hora', 'Food': 'Comida'})\n",
    "\n",
    "# diet['Dia'] = pd.Categorical(diet['Dia'], ordered=True,\n",
    "#                              categories=['Lunes', 'Martes', 'Miercoles', 'Jueves', 'Viernes', 'Sabado',\n",
    "#                                          'Domingo'])\n",
    "#\n",
    "# diet['Hora'] = pd.Categorical(diet['Hora'], ordered=True,\n",
    "#                              categories=['Desayuno', 'Almuerzo', 'Comida', 'Merienda', 'Cena'])\n",
    "#\n",
    "# diet = pd.pivot_table(diet, index=['Dia', 'Hora'], values='Comida', aggfunc='last')\n",
    "\n",
    "display(diet)"
   ],
   "metadata": {
    "collapsed": false,
    "pycharm": {
     "name": "#%%\n"
    }
   }
  },
  {
   "cell_type": "code",
   "execution_count": 147,
   "outputs": [
    {
     "data": {
      "text/plain": "['Te verde. Yogurt natural sin azucar con copos de espelta. Kiwi',\n 'Infusion. ']"
     },
     "execution_count": 147,
     "metadata": {},
     "output_type": "execute_result"
    }
   ],
   "source": [
    "import re\n",
    "\n",
    "def __remove_allergies(food, allergies):\n",
    "    food_without_allergies = [None] * len(food)\n",
    "    for idx_food, eats in enumerate(food):\n",
    "        meals = [None] * len(eats.split('.'))\n",
    "        for idx_meal, meal in enumerate(eats.split('.')):\n",
    "            for allergy in allergies:\n",
    "                if allergy.lower() in meal.lower():\n",
    "                    meal = re.sub(f'(?i){allergy}', '', meal).replace('  y', '')\n",
    "\n",
    "                meals[idx_meal] = meal\n",
    "\n",
    "        food_without_allergies[idx_food] = '.'.join([str(meal) for meal in meals])\n",
    "\n",
    "    return food_without_allergies\n",
    "\n",
    "__remove_allergies(diet['Comida'][:2], ['Uvas', 'calabacin'])"
   ],
   "metadata": {
    "collapsed": false,
    "pycharm": {
     "name": "#%%\n"
    }
   }
  },
  {
   "cell_type": "code",
   "execution_count": null,
   "outputs": [],
   "source": [
    "from jinja2 import Environment, FileSystemLoader\n",
    "from weasyprint import HTML\n",
    "\n",
    "env = Environment(loader=FileSystemLoader('../resources/template'))\n",
    "template = env.get_template('diet.html')\n",
    "\n",
    "template_vars = {\"title\": \"DIETA SEMANAL\", \"meal\": diet.to_html()}\n",
    "html_out = template.render(template_vars)\n",
    "\n",
    "path_output_file = f'../resources/template/test.pdf'\n",
    "HTML(string=html_out).write_pdf(path_output_file)"
   ],
   "metadata": {
    "collapsed": false,
    "pycharm": {
     "name": "#%%\n"
    }
   }
  }
 ],
 "metadata": {
  "kernelspec": {
   "display_name": "Python 3",
   "language": "python",
   "name": "python3"
  },
  "language_info": {
   "codemirror_mode": {
    "name": "ipython",
    "version": 3
   },
   "file_extension": ".py",
   "mimetype": "text/x-python",
   "name": "python",
   "nbconvert_exporter": "python",
   "pygments_lexer": "ipython3",
   "version": "3.9.5"
  }
 },
 "nbformat": 4,
 "nbformat_minor": 1
}